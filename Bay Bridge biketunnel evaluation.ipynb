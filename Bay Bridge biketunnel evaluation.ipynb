{
 "metadata": {
  "celltoolbar": "Edit Metadata",
  "kernelspec": {
   "display_name": "Python 2",
   "language": "python",
   "name": "python2"
  },
  "language_info": {
   "codemirror_mode": {
    "name": "ipython",
    "version": 2
   },
   "file_extension": ".py",
   "mimetype": "text/x-python",
   "name": "python",
   "nbconvert_exporter": "python",
   "pygments_lexer": "ipython2",
   "version": "2.7.9"
  },
  "name": "",
  "signature": "sha256:451b75f61e5f44d832f4dfa2abab1ee285c3f70b04d32f80f4afff36c47415bc"
 },
 "nbformat": 3,
 "nbformat_minor": 0,
 "worksheets": [
  {
   "cells": [
    {
     "cell_type": "code",
     "collapsed": false,
     "input": [
      "# First, let's get a profile of the ride\n",
      "\n",
      "from pint import UnitRegistry\n",
      "ur = UnitRegistry()\n",
      "G = 10 * ur.meters / (ur.second ** 2)\n",
      "height = 67 * ur.meters\n",
      "# weight for average San Franciscans from \n",
      "# http://www.city-data.com/county/San_Francisco_County-CA.html\n",
      "mass = ur.pounds * (178 + 143) / 2. # rider\n",
      "mass += 15 * ur.kg # bike, clothes, basic luggage\n",
      "mass.ito(ur.kg)\n",
      "climb_work = height * mass * G\n",
      "climb_work.ito(ur.joules)\n"
     ],
     "language": "python",
     "metadata": {
      "run_control": {
       "marked": true
      }
     },
     "outputs": [],
     "prompt_number": 3
    },
    {
     "cell_type": "code",
     "collapsed": true,
     "input": [],
     "language": "python",
     "metadata": {},
     "outputs": [],
     "prompt_number": 3
    },
    {
     "cell_type": "markdown",
     "metadata": {
      "run_control": {
       "marked": true
      }
     },
     "source": [
      "The drag is given by\n",
      "\n",
      "$F_d = \\frac{1}{2} \\rho v^2 C_d A$\n",
      "\n",
      "In equilibrium, the work per second being done against this drag force balances the rider's power input $W$.\n",
      "\n",
      "$F_d v = W$\n",
      "\n",
      "$\\frac{1}{2} \\rho v^2 C_d A = \\frac{W}{v}$\n",
      "\n",
      "\n",
      "\n",
      "\n"
     ]
    },
    {
     "cell_type": "markdown",
     "metadata": {
      "run_control": {
       "marked": true
      }
     },
     "source": [
      "$ v^3 = \\frac{2W}{\\rho C_d A}$"
     ]
    },
    {
     "cell_type": "markdown",
     "metadata": {
      "run_control": {
       "marked": true
      }
     },
     "source": [
      "$ v = (\\frac{2W}{\\rho C_d A})^{1 \\over 3}$"
     ]
    },
    {
     "cell_type": "code",
     "collapsed": false,
     "input": [
      "# road bike, \"touring\" position, from D.G. Wilson, Bicycling Science, 3rd ed p188\n",
      "# aside -- that table has a very weird entry for a mountain bike at the bottom, which\n",
      "# is inconsistent with the other numbers\n",
      "c_drag = 1 # looks too high!\n",
      "c_drag = 0.9\n",
      "area = 0.4 * ur.m ** 2\n",
      "rho = 1.206 * ur.kg / ur.m **3 # http://www.denysschen.com/catalogue/density.aspx 17\u00b0C 50m\n",
      "Ka = 0.5 * c_drag * rho * area\n",
      "\n",
      "def drag(v):\n",
      "\n",
      "    return 0.5 * rho * c_drag * v ** 2\n",
      "\n",
      "def speed_simple(power):\n",
      "    v = (2*power / (rho * c_drag * area))** (1./3)\n",
      "    v.ito(ur.km / ur.hour)\n",
      "    return v"
     ],
     "language": "python",
     "metadata": {
      "run_control": {
       "marked": true
      }
     },
     "outputs": [],
     "prompt_number": 4
    },
    {
     "cell_type": "code",
     "collapsed": false,
     "input": [
      "\n",
      "# how much power does our commuter produce?\n",
      "# According to https://en.wikipedia.org/wiki/Bicycle_performance#Energy_efficiency\n",
      "# Amateur racers can sustain 210 watts\n",
      "W = 210 * ur.watts\n",
      "# let's assume our commuter is fit but not quite a racer\n",
      "W *= 0.7\n",
      "\n",
      "#climb_time = (climb_work / power).to(ur.minutes)\n",
      "#print(climb_time)\n",
      "\n",
      "\n"
     ],
     "language": "python",
     "metadata": {
      "run_control": {
       "marked": true
      }
     },
     "outputs": [],
     "prompt_number": 5
    },
    {
     "cell_type": "code",
     "collapsed": false,
     "input": [
      "print speed_simple(W)"
     ],
     "language": "python",
     "metadata": {
      "run_control": {
       "marked": true
      }
     },
     "outputs": [
      {
       "output_type": "stream",
       "stream": "stdout",
       "text": [
        "31.6131914463 kilometer / hour\n"
       ]
      }
     ],
     "prompt_number": 6
    },
    {
     "cell_type": "markdown",
     "metadata": {
      "run_control": {
       "marked": true
      }
     },
     "source": [
      "$K_A = \\frac{1}{2} \\rho  C_d A$"
     ]
    },
    {
     "cell_type": "markdown",
     "metadata": {
      "run_control": {
       "marked": true
      }
     },
     "source": [
      "Adding in windspeed and climbing, where the rider does some work $W_w$ and $W_h$ against both the wind and the climb.\n",
      "\n",
      "$F_d v = W = W_w + W_h$\n",
      "\n",
      "$W_w = W - W_h$\n",
      "\n",
      "$ K_A (v +v_w)^2 v = W - W_h $\n",
      "\n",
      "$= W - m G v_h$\n",
      "\n",
      "$= W - m G v \\sin \\theta$\n",
      "\n",
      "$K_A (v + v_w)^2 v = W - m G v \\sin \\theta$\n"
     ]
    },
    {
     "cell_type": "markdown",
     "metadata": {
      "run_control": {
       "marked": true
      }
     },
     "source": [
      "$K_A v^3 + (2 K_A v_w)v^2 + (K_A {v_w}^2 + m G \\sin \\theta)v - W = 0 $\n",
      "\n",
      "\n"
     ]
    },
    {
     "cell_type": "code",
     "collapsed": false,
     "input": [
      "from cubic import cubic\n",
      "# solve for velocity using an analytic cubic equation library\n",
      "def cubicv(W, wind, theta):\n",
      "    a = Ka\n",
      "    b = 2*Ka*wind\n",
      "    c = Ka * wind ** 2 + mass * G * math.sin(theta)\n",
      "    d = - W\n",
      "    return cubic(a,b,c,d)[0].to(ur.kph)"
     ],
     "language": "python",
     "metadata": {
      "run_control": {
       "marked": true
      }
     },
     "outputs": [],
     "prompt_number": 7
    },
    {
     "cell_type": "code",
     "collapsed": false,
     "input": [
      "import math\n",
      "\n",
      "def power(v,wind,theta):\n",
      "    W = Ka * v**3 + 2*Ka*wind*(v**2) + (Ka * (wind **2) + mass * G * math.sin(theta)) * v\n",
      "    W.ito(ur.watts)\n",
      "    return W\n",
      "\n",
      "print power(11 * ur.kph, -74 *ur.kph, 0)\n",
      "\n",
      "v_eg = 10 * ur.m / ur.sec\n",
      "\n",
      "# test calculation: how much power is required to ride at 10 m / sec in different winds?\n",
      "for ws in range(-10,10):\n",
      "    wind = ws * ur.m / ur.sec\n",
      "    print \"%4d\"%ws,\" \", power(v_eg,wind,0)"
     ],
     "language": "python",
     "metadata": {
      "run_control": {
       "marked": true
      }
     },
     "outputs": [
      {
       "output_type": "stream",
       "stream": "stdout",
       "text": [
        "203.135625 watt\n",
        " -10   0.0 watt\n",
        "  -9   2.1708 watt\n",
        "  -8   8.6832 watt\n",
        "  -7   19.5372 watt\n",
        "  -6   34.7328 watt\n",
        "  -5   54.27 watt\n",
        "  -4   78.1488 watt\n",
        "  -3   106.3692 watt\n",
        "  -2   138.9312 watt\n",
        "  -1   175.8348 watt\n",
        "   0   217.08 watt\n",
        "   1   262.6668 watt\n",
        "   2   312.5952 watt\n",
        "   3   366.8652 watt\n",
        "   4   425.4768 watt\n",
        "   5   488.43 watt\n",
        "   6   555.7248 watt\n",
        "   7   627.3612 watt\n",
        "   8   703.3392 watt\n",
        "   9   783.6588 watt\n"
       ]
      }
     ],
     "prompt_number": 8
    },
    {
     "cell_type": "code",
     "collapsed": false,
     "input": [
      "# not used: solves for velocity using iterative approximation\n",
      "\n",
      "THRESHOLD = 0.1 * ur.watt\n",
      "MAXDEPTH=20\n",
      "import sys\n",
      "verbose = False\n",
      "\n",
      "def velocity(W,wind,theta):\n",
      "    if verbose: print \"Trying to invert\", W\n",
      "    maxtry = speed_simple(W) *3\n",
      "    mintry = speed_simple(W)/ 3\n",
      "    return vsolve(W,wind,theta,mintry,maxtry)\n",
      "\n",
      "def vsolve(W, wind, theta, vmin, vmax, depth=0):\n",
      "    \"Solves for velocity... assumes monotonicity\"\n",
      "    depth += 1\n",
      "    if depth == MAXDEPTH:\n",
      "        print \"failed with range\", vmin,vmax\n",
      "        raise ValueError\n",
      "    vmid = (vmax + vmin )/2\n",
      "    vtries = [vmin, vmid, vmax]\n",
      "    ptries = [power(v,wind,theta) for v in vtries]\n",
      "    errors = [W - p for p in ptries]\n",
      "    if verbose:\n",
      "        print \"Velocities: \", vtries\n",
      "        print \"Powers: \", ptries\n",
      "        print \"Errors: \", errors\n",
      "    if abs(errors[1]) < THRESHOLD:\n",
      "        return vmid\n",
      "    if samesign(errors[0], errors[2]):\n",
      "        if depth != 1:\n",
      "            if verbose:\n",
      "                print \"RANGE ERROR IN NONFIRST ITN\", vmin, vmax\n",
      "            return None\n",
      "        # NOT in range\n",
      "        minerr = abs(errors[0])\n",
      "        maxerr = abs(errors[2])\n",
      "        if minerr < maxerr:\n",
      "            if vmin > 0*ur.kph: \n",
      "                return vsolve(W,wind,theta,(vmin/2) - 10*ur.kph, vmin, depth)\n",
      "            else: \n",
      "                return vsolve(W,wind,theta, vmin*2 - 10*ur.kph, vmin, depth)\n",
      "        else:\n",
      "            assert maxerr < minerr\n",
      "            return vsolve(W, wind,theta,vmax, vmax*2 + 10*ur.kph, depth)\n",
      "    \n",
      "    if not samesign(errors[0],errors[1]):\n",
      "        return vsolve(W,wind,theta,vmin,vmid,depth)\n",
      "    else:\n",
      "        return vsolve(W,wind,theta,vmid,vmax,depth)\n",
      "\n",
      "def samesign(qty1,qty2):\n",
      "    \"Return true if these have the same sign\"\n",
      "    prod = qty1 * qty2\n",
      "    return prod >= (prod * 0)\n",
      "    \n",
      "#velocity(W,1*ur.m /ur.s,0)\n",
      "\n",
      "\n",
      "#print velocity(W, -74*ur.kph,0)\n",
      "# Test calculation:\n",
      "# print a table of speeds as a function of headwinds and tailwinds of various magnitudes\n",
      "# high wind speeds expose some numerical instability in our cubic equation routines :/\n",
      "print \"windspeed |  rider speed upwind             |   rider speed downwind (iterated)  |   (analytic)\"\n",
      "for headwind in range(0,100):\n",
      "    print \"%4d       \" % headwind, velocity(W,headwind*ur.kph,0), \"    \", velocity(W,-headwind*ur.kph,0), \"    \", cubicv(W, -headwind*ur.kph,0)"
     ],
     "language": "python",
     "metadata": {
      "run_control": {
       "marked": true
      }
     },
     "outputs": [
      {
       "output_type": "stream",
       "stream": "stdout",
       "text": [
        "windspeed |  rider speed upwind             |   rider speed downwind (iterated)  |   (analytic)\n",
        "   0        31.6131914463 kilometer / hour      "
       ]
      },
      {
       "output_type": "stream",
       "stream": "stdout",
       "text": [
        "31.6131914463 kilometer / hour      31.6131914463 kph\n",
        "   1        "
       ]
      },
      {
       "output_type": "stream",
       "stream": "stdout",
       "text": [
        "30.9545832912 kilometer / hour      "
       ]
      },
      {
       "output_type": "stream",
       "stream": "stdout",
       "text": [
        "32.2820903539 kilometer / hour      32.2833481015 kph\n",
        "   2        "
       ]
      },
      {
       "output_type": "stream",
       "stream": "stdout",
       "text": [
        "30.2959751361 kilometer / hour      "
       ]
      },
      {
       "output_type": "stream",
       "stream": "stdout",
       "text": [
        "32.9612800139 kilometer / hour      32.9603860452 kph\n",
        "   3        "
       ]
      },
      {
       "output_type": "stream",
       "stream": "stdout",
       "text": [
        "29.6476577333 kilometer / hour      "
       ]
      },
      {
       "output_type": "stream",
       "stream": "stdout",
       "text": [
        "33.6507604263 kilometer / hour      33.6441573833 kph\n",
        "   4        "
       ]
      },
      {
       "output_type": "stream",
       "stream": "stdout",
       "text": [
        "28.9993403306 kilometer / hour      "
       ]
      },
      {
       "output_type": "stream",
       "stream": "stdout",
       "text": [
        "34.3299500862 kilometer / hour      34.3345148974 kph\n",
        "   5        "
       ]
      },
      {
       "output_type": "stream",
       "stream": "stdout",
       "text": [
        "28.3716044328 kilometer / hour      "
       ]
      },
      {
       "output_type": "stream",
       "stream": "stdout",
       "text": [
        "35.0297212511 kilometer / hour      35.0313122256 kph\n",
        "   6        "
       ]
      },
      {
       "output_type": "stream",
       "stream": "stdout",
       "text": [
        "27.7438685349 kilometer / hour      "
       ]
      },
      {
       "output_type": "stream",
       "stream": "stdout",
       "text": [
        "35.7294924159 kilometer / hour      35.7344041288 kph\n",
        "   7        "
       ]
      },
      {
       "output_type": "stream",
       "stream": "stdout",
       "text": [
        "27.1264233895 kilometer / hour      "
       ]
      },
      {
       "output_type": "stream",
       "stream": "stdout",
       "text": [
        "36.4498450856 kilometer / hour      36.4436467139 kph\n",
        "   8        "
       ]
      },
      {
       "output_type": "stream",
       "stream": "stdout",
       "text": [
        "26.5192689965 kilometer / hour      "
       ]
      },
      {
       "output_type": "stream",
       "stream": "stdout",
       "text": [
        "37.1599070028 kilometer / hour      37.1588976348 kph\n",
        "   9        "
       ]
      },
      {
       "output_type": "stream",
       "stream": "stdout",
       "text": [
        "25.9121146035 kilometer / hour      "
       ]
      },
      {
       "output_type": "stream",
       "stream": "stdout",
       "text": [
        "37.8802596725 kilometer / hour      37.8800162735 kph\n",
        "  10        "
       ]
      },
      {
       "output_type": "stream",
       "stream": "stdout",
       "text": [
        "25.3255417153 kilometer / hour      "
       ]
      },
      {
       "output_type": "stream",
       "stream": "stdout",
       "text": [
        "38.6109030946 kilometer / hour      38.6068638998 kph\n",
        "  11        "
       ]
      },
      {
       "output_type": "stream",
       "stream": "stdout",
       "text": [
        "24.7389688271 kilometer / hour      "
       ]
      },
      {
       "output_type": "stream",
       "stream": "stdout",
       "text": [
        "39.3415465167 kilometer / hour      39.3393038125 kph\n",
        "  12        "
       ]
      },
      {
       "output_type": "stream",
       "stream": "stdout",
       "text": [
        "24.1626866914 kilometer / hour      "
       ]
      },
      {
       "output_type": "stream",
       "stream": "stdout",
       "text": [
        "40.0721899388 kilometer / hour      40.0772014631 kph\n",
        "  13        "
       ]
      },
      {
       "output_type": "stream",
       "stream": "stdout",
       "text": [
        "23.5966953081 kilometer / hour      "
       ]
      },
      {
       "output_type": "stream",
       "stream": "stdout",
       "text": [
        "40.8234148657 kilometer / hour      40.8204245616 kph\n",
        "  14        "
       ]
      },
      {
       "output_type": "stream",
       "stream": "stdout",
       "text": [
        "23.0307039248 kilometer / hour      "
       ]
      },
      {
       "output_type": "stream",
       "stream": "stdout",
       "text": [
        "41.5746397927 kilometer / hour      41.5688431671 kph\n",
        "  15        "
       ]
      },
      {
       "output_type": "stream",
       "stream": "stdout",
       "text": [
        "22.4852940463 kilometer / hour      "
       ]
      },
      {
       "output_type": "stream",
       "stream": "stdout",
       "text": [
        "42.3155739672 kilometer / hour      42.3223297631 kph\n",
        "  16        "
       ]
      },
      {
       "output_type": "stream",
       "stream": "stdout",
       "text": [
        "21.9398841678 kilometer / hour      "
       ]
      },
      {
       "output_type": "stream",
       "stream": "stdout",
       "text": [
        "43.0770896466 kilometer / hour      43.0807593194 kph\n",
        "  17        "
       ]
      },
      {
       "output_type": "stream",
       "stream": "stdout",
       "text": [
        "21.4150557942 kilometer / hour      "
       ]
      },
      {
       "output_type": "stream",
       "stream": "stdout",
       "text": [
        "43.8386053259 kilometer / hour      43.8440093411 kph\n",
        "  18        "
       ]
      },
      {
       "output_type": "stream",
       "stream": "stdout",
       "text": [
        "20.8902274206 kilometer / hour      "
       ]
      },
      {
       "output_type": "stream",
       "stream": "stdout",
       "text": [
        "44.6104117577 kilometer / hour      44.6119599062 kph\n",
        "  19        "
       ]
      },
      {
       "output_type": "stream",
       "stream": "stdout",
       "text": [
        "20.3756897994 kilometer / hour      "
       ]
      },
      {
       "output_type": "stream",
       "stream": "stdout",
       "text": [
        "45.3822181895 kilometer / hour      45.3844936921 kph\n",
        "  20        "
       ]
      },
      {
       "output_type": "stream",
       "stream": "stdout",
       "text": [
        "19.8714429306 kilometer / hour      "
       ]
      },
      {
       "output_type": "stream",
       "stream": "stdout",
       "text": [
        "46.1643153738 kilometer / hour      46.1614959925 kph\n",
        "  21        "
       ]
      },
      {
       "output_type": "stream",
       "stream": "stdout",
       "text": [
        "19.3774868143 kilometer / hour      "
       ]
      },
      {
       "output_type": "stream",
       "stream": "stdout",
       "text": [
        "46.946412558 kilometer / hour      46.9428547259 kph\n",
        "  22        "
       ]
      },
      {
       "output_type": "stream",
       "stream": "stdout",
       "text": [
        "18.8938214503 kilometer / hour      "
       ]
      },
      {
       "output_type": "stream",
       "stream": "stdout",
       "text": [
        "47.7285097422 kilometer / hour      47.7284604347 kph\n",
        "  23        "
       ]
      },
      {
       "output_type": "stream",
       "stream": "stdout",
       "text": [
        "18.4204468388 kilometer / hour      "
       ]
      },
      {
       "output_type": "stream",
       "stream": "stdout",
       "text": [
        "48.5208976788 kilometer / hour      48.5182062789 kph\n",
        "  24        "
       ]
      },
      {
       "output_type": "stream",
       "stream": "stdout",
       "text": [
        "17.9470722273 kilometer / hour      "
       ]
      },
      {
       "output_type": "stream",
       "stream": "stdout",
       "text": [
        "49.3132856155 kilometer / hour      49.3119880217 kph\n",
        "  25        "
       ]
      },
      {
       "output_type": "stream",
       "stream": "stdout",
       "text": [
        "17.4942791207 kilometer / hour      "
       ]
      },
      {
       "output_type": "stream",
       "stream": "stdout",
       "text": [
        "50.1159643045 kilometer / hour      50.1097040107 kph\n",
        "  26        "
       ]
      },
      {
       "output_type": "stream",
       "stream": "stdout",
       "text": [
        "17.0517767665 kilometer / hour      "
       ]
      },
      {
       "output_type": "stream",
       "stream": "stdout",
       "text": [
        "50.9083522412 kilometer / hour      50.9112551525 kph\n",
        "  27        "
       ]
      },
      {
       "output_type": "stream",
       "stream": "stdout",
       "text": [
        "16.6092744122 kilometer / hour      "
       ]
      },
      {
       "output_type": "stream",
       "stream": "stdout",
       "text": [
        "51.7213216827 kilometer / hour      51.7165448842 kph\n",
        "  28        "
       ]
      },
      {
       "output_type": "stream",
       "stream": "stdout",
       "text": [
        "16.1873535628 kilometer / hour      "
       ]
      },
      {
       "output_type": "stream",
       "stream": "stdout",
       "text": [
        "52.5240003717 kilometer / hour      52.5254791401 kph\n",
        "  29        "
       ]
      },
      {
       "output_type": "stream",
       "stream": "stdout",
       "text": [
        "15.7654327135 kilometer / hour      "
       ]
      },
      {
       "output_type": "stream",
       "stream": "stdout",
       "text": [
        "53.3369698132 kilometer / hour      53.3379663152 kph\n",
        "  30        "
       ]
      },
      {
       "output_type": "stream",
       "stream": "stdout",
       "text": [
        "15.3538026165 kilometer / hour      "
       ]
      },
      {
       "output_type": "stream",
       "stream": "stdout",
       "text": [
        "54.1499392547 kilometer / hour      54.153917226 kph\n",
        "  31        "
       ]
      },
      {
       "output_type": "stream",
       "stream": "stdout",
       "text": [
        "14.9627540244 kilometer / hour      "
       ]
      },
      {
       "output_type": "stream",
       "stream": "stdout",
       "text": [
        "54.9731994486 kilometer / hour      54.9732450683 kph\n",
        "  32        "
       ]
      },
      {
       "output_type": "stream",
       "stream": "stdout",
       "text": [
        "14.5717054323 kilometer / hour      "
       ]
      },
      {
       "output_type": "stream",
       "stream": "stdout",
       "text": [
        "55.7964596426 kilometer / hour      55.7958653734 kph\n",
        "  33        "
       ]
      },
      {
       "output_type": "stream",
       "stream": "stdout",
       "text": [
        "14.1909475926 kilometer / hour      "
       ]
      },
      {
       "output_type": "stream",
       "stream": "stdout",
       "text": [
        "56.6197198365 kilometer / hour      56.6216959623 kph\n",
        "  34        "
       ]
      },
      {
       "output_type": "stream",
       "stream": "stdout",
       "text": [
        "13.8204805053 kilometer / hour      "
       ]
      },
      {
       "output_type": "stream",
       "stream": "stdout",
       "text": [
        "57.4532707828 kilometer / hour      57.4506568985 kph\n",
        "  35        "
       ]
      },
      {
       "output_type": "stream",
       "stream": "stdout",
       "text": [
        "13.4603041705 kilometer / hour      "
       ]
      },
      {
       "output_type": "stream",
       "stream": "stdout",
       "text": [
        "58.2868217291 kilometer / hour      58.28267044 kph\n",
        "  36        "
       ]
      },
      {
       "output_type": "stream",
       "stream": "stdout",
       "text": [
        "13.1001278357 kilometer / hour      "
       ]
      },
      {
       "output_type": "stream",
       "stream": "stdout",
       "text": [
        "59.1203726755 kilometer / hour      59.11766099 kph\n",
        "  37        "
       ]
      },
      {
       "output_type": "stream",
       "stream": "stdout",
       "text": [
        "12.7605330057 kilometer / hour      "
       ]
      },
      {
       "output_type": "stream",
       "stream": "stdout",
       "text": [
        "59.9539236218 kilometer / hour      59.9555550474 kph\n",
        "  38        "
       ]
      },
      {
       "output_type": "stream",
       "stream": "stdout",
       "text": [
        "12.4209381757 kilometer / hour      "
       ]
      },
      {
       "output_type": "stream",
       "stream": "stdout",
       "text": [
        "60.7977653206 kilometer / hour      60.7962811571 kph\n",
        "  39        "
       ]
      },
      {
       "output_type": "stream",
       "stream": "stdout",
       "text": [
        "12.1019248505 kilometer / hour      "
       ]
      },
      {
       "output_type": "stream",
       "stream": "stdout",
       "text": [
        "61.6416070193 kilometer / hour      61.6397698595 kph\n",
        "  40        "
       ]
      },
      {
       "output_type": "stream",
       "stream": "stdout",
       "text": [
        "11.7829115254 kilometer / hour      "
       ]
      },
      {
       "output_type": "stream",
       "stream": "stdout",
       "text": [
        "62.4854487181 kilometer / hour      62.4859536403 kph\n",
        "  41        "
       ]
      },
      {
       "output_type": "stream",
       "stream": "stdout",
       "text": [
        "11.4741889527 kilometer / hour      "
       ]
      },
      {
       "output_type": "stream",
       "stream": "stdout",
       "text": [
        "63.3292904169 kilometer / hour      63.3347668812 kph\n",
        "  42        "
       ]
      },
      {
       "output_type": "stream",
       "stream": "stdout",
       "text": [
        "11.1757571324 kilometer / hour      "
       ]
      },
      {
       "output_type": "stream",
       "stream": "stdout",
       "text": [
        "64.1834228681 kilometer / hour      64.1861458098 kph\n",
        "  43        "
       ]
      },
      {
       "output_type": "stream",
       "stream": "stdout",
       "text": [
        "10.8773253121 kilometer / hour      "
       ]
      },
      {
       "output_type": "stream",
       "stream": "stdout",
       "text": [
        "65.0375553192 kilometer / hour      65.0400284505 kph\n",
        "  44        "
       ]
      },
      {
       "output_type": "stream",
       "stream": "stdout",
       "text": [
        "10.5994749966 kilometer / hour      "
       ]
      },
      {
       "output_type": "stream",
       "stream": "stdout",
       "text": [
        "65.9019785229 kilometer / hour      65.8963545759 kph\n",
        "  45        "
       ]
      },
      {
       "output_type": "stream",
       "stream": "stdout",
       "text": [
        "10.3215209645 kilometer / hour      "
       ]
      },
      {
       "output_type": "stream",
       "stream": "stdout",
       "text": [
        "66.756110974 kilometer / hour      66.7550656587 kph\n",
        "  46        "
       ]
      },
      {
       "output_type": "stream",
       "stream": "stdout",
       "text": [
        "10.0531229427 kilometer / hour      "
       ]
      },
      {
       "output_type": "stream",
       "stream": "stdout",
       "text": [
        "67.6102434252 kilometer / hour      67.6161048248 kph\n",
        "  47        "
       ]
      },
      {
       "output_type": "stream",
       "stream": "stdout",
       "text": [
        "9.79218042151 kilometer / hour      "
       ]
      },
      {
       "output_type": "stream",
       "stream": "stdout",
       "text": [
        "68.4746666288 kilometer / hour      68.479416806 kph\n",
        "  48        "
       ]
      },
      {
       "output_type": "stream",
       "stream": "stdout",
       "text": [
        "9.5386934009 kilometer / hour      "
       ]
      },
      {
       "output_type": "stream",
       "stream": "stdout",
       "text": [
        "69.3390898324 kilometer / hour      69.3449478949 kph\n",
        "  49        "
       ]
      },
      {
       "output_type": "stream",
       "stream": "stdout",
       "text": [
        "9.30011738151 kilometer / hour      "
       ]
      },
      {
       "output_type": "stream",
       "stream": "stdout",
       "text": [
        "70.2138037885 kilometer / hour      70.2126459 kph\n",
        "  50        "
       ]
      },
      {
       "output_type": "stream",
       "stream": "stdout",
       "text": [
        "9.06154136212 kilometer / hour      "
       ]
      },
      {
       "output_type": "stream",
       "stream": "stdout",
       "text": [
        "71.0885177445 kilometer / hour      71.0824601015 kph\n",
        "  51        "
       ]
      },
      {
       "output_type": "stream",
       "stream": "stdout",
       "text": [
        "8.82296534273 kilometer / hour      "
       ]
      },
      {
       "output_type": "stream",
       "stream": "stdout",
       "text": [
        "71.9529409481 kilometer / hour      71.9543412084 kph\n",
        "  52        "
       ]
      },
      {
       "output_type": "stream",
       "stream": "stdout",
       "text": [
        "8.59930032455 kilometer / hour      "
       ]
      },
      {
       "output_type": "stream",
       "stream": "stdout",
       "text": [
        "72.8276549042 kilometer / hour      72.8282413167 kph\n",
        "  53        "
       ]
      },
      {
       "output_type": "stream",
       "stream": "stdout",
       "text": [
        "8.38309080698 kilometer / hour      "
       ]
      },
      {
       "output_type": "stream",
       "stream": "stdout",
       "text": [
        "73.7023688602 kilometer / hour      73.7041138679 kph\n",
        "  54        "
       ]
      },
      {
       "output_type": "stream",
       "stream": "stdout",
       "text": [
        "8.17433679001 kilometer / hour      "
       ]
      },
      {
       "output_type": "stream",
       "stream": "stdout",
       "text": [
        "74.5873735687 kilometer / hour      74.5819136095 kph\n",
        "  55        "
       ]
      },
      {
       "output_type": "stream",
       "stream": "stdout",
       "text": [
        "7.96558277304 kilometer / hour      "
       ]
      },
      {
       "output_type": "stream",
       "stream": "stdout",
       "text": [
        "75.4620875247 kilometer / hour      75.4615965556 kph\n",
        "  56        "
       ]
      },
      {
       "output_type": "stream",
       "stream": "stdout",
       "text": [
        "7.77173975729 kilometer / hour      "
       ]
      },
      {
       "output_type": "stream",
       "stream": "stdout",
       "text": [
        "76.3470922331 kilometer / hour      76.3431199489 kph\n",
        "  57        "
       ]
      },
      {
       "output_type": "stream",
       "stream": "stdout",
       "text": [
        "7.57789674153 kilometer / hour      "
       ]
      },
      {
       "output_type": "stream",
       "stream": "stdout",
       "text": [
        "77.2218061892 kilometer / hour      77.2264422236 kph\n",
        "  58        "
       ]
      },
      {
       "output_type": "stream",
       "stream": "stdout",
       "text": [
        "7.39150922638 kilometer / hour      "
       ]
      },
      {
       "output_type": "stream",
       "stream": "stdout",
       "text": [
        "78.1068108976 kilometer / hour      78.1115229698 kph\n",
        "  59        "
       ]
      },
      {
       "output_type": "stream",
       "stream": "stdout",
       "text": [
        "7.20512171123 kilometer / hour      "
       ]
      },
      {
       "output_type": "stream",
       "stream": "stdout",
       "text": [
        "79.0021063585 kilometer / hour      78.9983228978 kph\n",
        "  60        "
       ]
      },
      {
       "output_type": "stream",
       "stream": "stdout",
       "text": [
        "7.03364519729 kilometer / hour      "
       ]
      },
      {
       "output_type": "stream",
       "stream": "stdout",
       "text": [
        "79.887111067 kilometer / hour      (79.8868038044+0j) kph\n",
        "  61        "
       ]
      },
      {
       "output_type": "stream",
       "stream": "stdout",
       "text": [
        "6.86216868336 kilometer / hour      "
       ]
      },
      {
       "output_type": "stream",
       "stream": "stdout",
       "text": [
        "80.7824065279 kilometer / hour      (80.7769285398+0j) kph\n",
        "  62        "
       ]
      },
      {
       "output_type": "stream",
       "stream": "stdout",
       "text": [
        "6.69814767002 kilometer / hour      81.6674112363 kilometer / hour      (81.6686609755+0j) kph\n",
        "  63        "
       ]
      },
      {
       "output_type": "stream",
       "stream": "stdout",
       "text": [
        "6.53412665669 kilometer / hour      "
       ]
      },
      {
       "output_type": "stream",
       "stream": "stdout",
       "text": [
        "82.5627066972 kilometer / hour      (82.561965973+0j) kph\n",
        "  64        "
       ]
      },
      {
       "output_type": "stream",
       "stream": "stdout",
       "text": [
        "6.37756114397 kilometer / hour      "
       ]
      },
      {
       "output_type": "stream",
       "stream": "stdout",
       "text": [
        "83.4580021581 kilometer / hour      (83.4568093534+0j) kph\n",
        "  65        "
       ]
      },
      {
       "output_type": "stream",
       "stream": "stdout",
       "text": [
        "6.22845113185 kilometer / hour      "
       ]
      },
      {
       "output_type": "stream",
       "stream": "stdout",
       "text": [
        "84.353297619 kilometer / hour      (84.3531578683+0j) kph\n",
        "  66        "
       ]
      },
      {
       "output_type": "stream",
       "stream": "stdout",
       "text": [
        "6.07934111973 kilometer / hour      "
       ]
      },
      {
       "output_type": "stream",
       "stream": "stdout",
       "text": [
        "10.1202224482 kilometer / hour      (85.2509791714+0j) kph\n",
        "  67        "
       ]
      },
      {
       "output_type": "stream",
       "stream": "stdout",
       "text": [
        "5.93768660821 kilometer / hour      9.58342640454 kilometer / hour      (86.1502417905+0j) kph\n",
        "  68        "
       ]
      },
      {
       "output_type": "stream",
       "stream": "stdout",
       "text": [
        "5.80348759731 kilometer / hour      9.10627436576 kilometer / hour      "
       ]
      },
      {
       "output_type": "stream",
       "stream": "stdout",
       "text": [
        "(87.050915101+0j) kph\n",
        "  69        "
       ]
      },
      {
       "output_type": "stream",
       "stream": "stdout",
       "text": [
        "5.6692885864 kilometer / hour      "
       ]
      },
      {
       "output_type": "stream",
       "stream": "stdout",
       "text": [
        "8.68876633182 kilometer / hour      (87.9529693001+0j) kph\n",
        "  70        "
       ]
      },
      {
       "output_type": "stream",
       "stream": "stdout",
       "text": [
        "5.53508957549 kilometer / hour      "
       ]
      },
      {
       "output_type": "stream",
       "stream": "stdout",
       "text": [
        "8.30108030031 kilometer / hour      (88.8563753816+0j) kph\n",
        "  71        "
       ]
      },
      {
       "output_type": "stream",
       "stream": "stdout",
       "text": [
        "5.40834606519 kilometer / hour      "
       ]
      },
      {
       "output_type": "stream",
       "stream": "stdout",
       "text": [
        "7.94321627122 kilometer / hour      (89.7611051114+0j) kph\n",
        "  72        "
       ]
      },
      {
       "output_type": "stream",
       "stream": "stdout",
       "text": [
        "5.28905805549 kilometer / hour      "
       ]
      },
      {
       "output_type": "stream",
       "stream": "stdout",
       "text": [
        "7.63008524577 kilometer / hour      (90.6671310042+0j) kph\n",
        "  73        "
       ]
      },
      {
       "output_type": "stream",
       "stream": "stdout",
       "text": [
        "5.1697700458 kilometer / hour      "
       ]
      },
      {
       "output_type": "stream",
       "stream": "stdout",
       "text": [
        "7.32440972093 kilometer / hour      (91.5744263005+0j) kph\n",
        "  74        "
       ]
      },
      {
       "output_type": "stream",
       "stream": "stdout",
       "text": [
        "5.05793753671 kilometer / hour      None      (92.4829649447+0j) kph\n",
        "  75        "
       ]
      },
      {
       "output_type": "stream",
       "stream": "stdout",
       "text": [
        "4.94610502762 kilometer / hour      None      (93.3927215637+0j) kph\n",
        "  76        "
       ]
      },
      {
       "output_type": "stream",
       "stream": "stdout",
       "text": [
        "4.83427251853 kilometer / hour      None      3.8369307731e-14 kph\n",
        "  77        "
       ]
      },
      {
       "output_type": "stream",
       "stream": "stdout",
       "text": [
        "4.72989551004 kilometer / hour      "
       ]
      },
      {
       "output_type": "stream",
       "stream": "stdout",
       "text": [
        "52.4622558572 kilometer / hour      6.39488462184e-15 kph\n",
        "  78        "
       ]
      },
      {
       "output_type": "stream",
       "stream": "stdout",
       "text": [
        "4.62551850156 kilometer / hour      "
       ]
      },
      {
       "output_type": "stream",
       "stream": "stdout",
       "text": [
        "53.7588906626 kilometer / hour      6.39488462184e-15 kph\n",
        "  79        "
       ]
      },
      {
       "output_type": "stream",
       "stream": "stdout",
       "text": [
        "4.52859699368 kilometer / hour      "
       ]
      },
      {
       "output_type": "stream",
       "stream": "stdout",
       "text": [
        "55.0349439632 kilometer / hour      1.91846538655e-14 kph\n",
        "  80        "
       ]
      },
      {
       "output_type": "stream",
       "stream": "stdout",
       "text": [
        "4.43167548581 kilometer / hour      "
       ]
      },
      {
       "output_type": "stream",
       "stream": "stdout",
       "text": [
        "56.3109972638 kilometer / hour      0.0 kph\n",
        "  81        "
       ]
      },
      {
       "output_type": "stream",
       "stream": "stdout",
       "text": [
        "4.33848172823 kilometer / hour      "
       ]
      },
      {
       "output_type": "stream",
       "stream": "stdout",
       "text": [
        "57.5664690595 kilometer / hour      4.47641923529e-14 kph\n",
        "  82        "
       ]
      },
      {
       "output_type": "stream",
       "stream": "stdout",
       "text": [
        "4.24528797066 kilometer / hour      "
       ]
      },
      {
       "output_type": "stream",
       "stream": "stdout",
       "text": [
        "58.8219408552 kilometer / hour      1.91846538655e-14 kph\n",
        "  83        "
       ]
      },
      {
       "output_type": "stream",
       "stream": "stdout",
       "text": [
        "4.15954971369 kilometer / hour      "
       ]
      },
      {
       "output_type": "stream",
       "stream": "stdout",
       "text": [
        "60.0568311461 kilometer / hour      -6.39488462184e-15 kph\n",
        "  84        "
       ]
      },
      {
       "output_type": "stream",
       "stream": "stdout",
       "text": [
        "4.07381145672 kilometer / hour      "
       ]
      },
      {
       "output_type": "stream",
       "stream": "stdout",
       "text": [
        "61.2917214369 kilometer / hour      1.27897692437e-14 kph\n",
        "  85        "
       ]
      },
      {
       "output_type": "stream",
       "stream": "stdout",
       "text": [
        "3.99180095005 kilometer / hour      "
       ]
      },
      {
       "output_type": "stream",
       "stream": "stdout",
       "text": [
        "62.5266117278 kilometer / hour      1.91846538655e-14 kph\n",
        "  86        "
       ]
      },
      {
       "output_type": "stream",
       "stream": "stdout",
       "text": [
        "3.90979044339 kilometer / hour      "
       ]
      },
      {
       "output_type": "stream",
       "stream": "stdout",
       "text": [
        "63.7409205138 kilometer / hour      3.19744231092e-14 kph\n",
        "  87        "
       ]
      },
      {
       "output_type": "stream",
       "stream": "stdout",
       "text": [
        "3.82777993672 kilometer / hour      "
       ]
      },
      {
       "output_type": "stream",
       "stream": "stdout",
       "text": [
        "64.934647795 kilometer / hour      0.0 kph\n",
        "  88        "
       ]
      },
      {
       "output_type": "stream",
       "stream": "stdout",
       "text": [
        "3.75322493066 kilometer / hour      "
       ]
      },
      {
       "output_type": "stream",
       "stream": "stdout",
       "text": [
        "66.148956581 kilometer / hour      2.55795384874e-14 kph\n",
        "  89        "
       ]
      },
      {
       "output_type": "stream",
       "stream": "stdout",
       "text": [
        "3.6786699246 kilometer / hour      "
       ]
      },
      {
       "output_type": "stream",
       "stream": "stdout",
       "text": [
        "67.3426838622 kilometer / hour      1.27897692437e-14 kph\n",
        "  90        "
       ]
      },
      {
       "output_type": "stream",
       "stream": "stdout",
       "text": [
        "3.60411491854 kilometer / hour      "
       ]
      },
      {
       "output_type": "stream",
       "stream": "stdout",
       "text": [
        "68.5364111434 kilometer / hour      1.27897692437e-14 kph\n",
        "  91        "
       ]
      },
      {
       "output_type": "stream",
       "stream": "stdout",
       "text": [
        "3.53701541309 kilometer / hour      "
       ]
      },
      {
       "output_type": "stream",
       "stream": "stdout",
       "text": [
        "69.7095569197 kilometer / hour      3.8369307731e-14 kph\n",
        "  92        "
       ]
      },
      {
       "output_type": "stream",
       "stream": "stdout",
       "text": [
        "3.46618815733 kilometer / hour      "
       ]
      },
      {
       "output_type": "stream",
       "stream": "stdout",
       "text": [
        "70.882702696 kilometer / hour      -1.27897692437e-14 kph\n",
        "  93        "
       ]
      },
      {
       "output_type": "stream",
       "stream": "stdout",
       "text": [
        "3.39908865188 kilometer / hour      "
       ]
      },
      {
       "output_type": "stream",
       "stream": "stdout",
       "text": [
        "72.0558484724 kilometer / hour      0.0 kph\n",
        "  94        "
       ]
      },
      {
       "output_type": "stream",
       "stream": "stdout",
       "text": [
        "3.33571689673 kilometer / hour      "
       ]
      },
      {
       "output_type": "stream",
       "stream": "stdout",
       "text": [
        "73.2289942487 kilometer / hour      2.55795384874e-14 kph\n",
        "  95        "
       ]
      },
      {
       "output_type": "stream",
       "stream": "stdout",
       "text": [
        "3.27234514158 kilometer / hour      "
       ]
      },
      {
       "output_type": "stream",
       "stream": "stdout",
       "text": [
        "74.3918492726 kilometer / hour      1.27897692437e-14 kph\n",
        "  96        "
       ]
      },
      {
       "output_type": "stream",
       "stream": "stdout",
       "text": [
        "3.20897338642 kilometer / hour      "
       ]
      },
      {
       "output_type": "stream",
       "stream": "stdout",
       "text": [
        "75.5547042965 kilometer / hour      -3.8369307731e-14 kph\n",
        "  97        "
       ]
      },
      {
       "output_type": "stream",
       "stream": "stdout",
       "text": [
        "3.14932938158 kilometer / hour      "
       ]
      },
      {
       "output_type": "stream",
       "stream": "stdout",
       "text": [
        "76.707268568 kilometer / hour      -1.27897692437e-14 kph\n",
        "  98        "
       ]
      },
      {
       "output_type": "stream",
       "stream": "stdout",
       "text": [
        "3.08968537673 kilometer / hour      "
       ]
      },
      {
       "output_type": "stream",
       "stream": "stdout",
       "text": [
        "77.8598328395 kilometer / hour      3.8369307731e-14 kph\n",
        "  99        "
       ]
      },
      {
       "output_type": "stream",
       "stream": "stdout",
       "text": [
        "3.03376912218 kilometer / hour      "
       ]
      },
      {
       "output_type": "stream",
       "stream": "stdout",
       "text": [
        "79.0021063585 kilometer / hour      1.27897692437e-14 kph\n"
       ]
      }
     ],
     "prompt_number": 21
    },
    {
     "cell_type": "code",
     "collapsed": false,
     "input": [
      "# convention: model the eastbound trip first\n",
      "# model the bridge as a triangle with Yerba Buena Island as the highest point.  Assume there is 3 meters of steel below the deck before clearance begins\n",
      "w_length = 3141 * ur.m\n",
      "e_length = 3102 * ur.m\n",
      "# Wikipedia claims total bridge is about 1km longer than the spans...\n",
      "w_length += 500 *ur.m\n",
      "e_length += 500 *ur.m\n",
      "\n",
      "bridge_height = 70 * ur.m\n",
      "theta_w = math.atan(bridge_height / w_length)\n",
      "theta_e = - math.atan(bridge_height / e_length)\n",
      "\n",
      "# Typical afternoon wind:\n",
      "# 10 knots WSW -- more or less exactly aligned with the bridge\n",
      "# 15 knots is a windy Spring / Summer day\n",
      "headwind = -15 * ur.knots\n",
      "\n",
      "def eastbound():\n",
      "    t = w_length / velocity(W, headwind, theta_w)\n",
      "    t += e_length / velocity(W, headwind, theta_e)\n",
      "    t.ito(ur.minutes)\n",
      "    print \"  Eastbound\", t\n",
      "    return t\n",
      "\n",
      "def westbound():\n",
      "    t = w_length / velocity(W, -headwind, -theta_w)\n",
      "    t += e_length / velocity(W, -headwind, -theta_e)\n",
      "    t.ito(ur.minutes)\n",
      "    print \"  Westbound\", t\n",
      "    return t\n",
      "\n",
      "print \"Open air:\"\n",
      "t1 =  eastbound()+ westbound()\n",
      "#print \"  \", t\n",
      "print \"Half Tube:\"\n",
      "t3 = eastbound() \n",
      "headwind = 0 *ur.knots\n",
      "t3+=westbound()\n",
      "#print \"  \", t\n",
      "print \"Full Tube:\"\n",
      "t2 =  eastbound()+ westbound()\n",
      "#print \"  \", t\n",
      "\n",
      "print \"Tube Saves\", t1 - t2\n",
      "print \"Half tube saves\", t1 - t3\n"
     ],
     "language": "python",
     "metadata": {},
     "outputs": [
      {
       "output_type": "stream",
       "stream": "stdout",
       "text": [
        "Open air:\n",
        "  Eastbound"
       ]
      },
      {
       "output_type": "stream",
       "stream": "stdout",
       "text": [
        " 10.2919700996 minute\n",
        "  Westbound"
       ]
      },
      {
       "output_type": "stream",
       "stream": "stdout",
       "text": [
        " 27.8813418402 minute\n",
        "Half Tube:\n",
        "  Eastbound"
       ]
      },
      {
       "output_type": "stream",
       "stream": "stdout",
       "text": [
        " 10.2919700996 minute\n",
        "  Westbound"
       ]
      },
      {
       "output_type": "stream",
       "stream": "stdout",
       "text": [
        " 15.3037753663 minute\n",
        "Full Tube:\n",
        "  Eastbound"
       ]
      },
      {
       "output_type": "stream",
       "stream": "stdout",
       "text": [
        " 15.2994915657 minute\n",
        "  Westbound"
       ]
      },
      {
       "output_type": "stream",
       "stream": "stdout",
       "text": [
        " 15.3037753663 minute\n",
        "Tube Saves 7.57004500779 minute\n",
        "Half tube saves 12.5775664739 minute\n"
       ]
      }
     ],
     "prompt_number": 18
    },
    {
     "cell_type": "markdown",
     "metadata": {
      "run_control": {
       "marked": true
      }
     },
     "source": [
      "Examples of wind speed data from the SJSU model (unfortunately these links are always ephemeral :( )\n",
      "\n",
      "<img src=\"http://www.met.sjsu.edu/~wind/Tmp/wind20150968.gif\" width=\"200\" height=\"200\" style=\"align:left\">\n"
     ]
    },
    {
     "cell_type": "code",
     "collapsed": false,
     "input": [],
     "language": "python",
     "metadata": {},
     "outputs": []
    }
   ],
   "metadata": {}
  }
 ]
}